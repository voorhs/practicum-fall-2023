{
 "cells": [
  {
   "cell_type": "code",
   "execution_count": 1,
   "metadata": {},
   "outputs": [],
   "source": [
    "%load_ext autoreload\n",
    "%autoreload 2"
   ]
  },
  {
   "cell_type": "code",
   "execution_count": 2,
   "metadata": {},
   "outputs": [
    {
     "name": "stderr",
     "output_type": "stream",
     "text": [
      "/home/alekseev_ilya/dialogue-augmentation/VENV/lib/python3.8/site-packages/tqdm/auto.py:21: TqdmWarning: IProgress not found. Please update jupyter and ipywidgets. See https://ipywidgets.readthedocs.io/en/stable/user_install.html\n",
      "  from .autonotebook import tqdm as notebook_tqdm\n"
     ]
    }
   ],
   "source": [
    "from datasets import load_dataset\n",
    "\n",
    "dataset = load_dataset('Salesforce/dialogstudio', 'FRAMES')['train']['log']"
   ]
  },
  {
   "cell_type": "code",
   "execution_count": 3,
   "metadata": {},
   "outputs": [
    {
     "data": {
      "text/plain": [
       "([\"I'd like to book a trip to Atlantis from Caprica on Saturday, August 13, 2016 for 8 adults. I have a tight budget of 1700.\",\n",
       "  'Hi...I checked a few options for you, and unfortunately, we do not currently have any trips that meet this criteria.  Would you like to book an alternate travel option?',\n",
       "  'Yes, how about going to Neverland from Caprica on August 13, 2016 for 5 adults. For this trip, my budget would be 1900.',\n",
       "  'I checked the availability for this date and there were no trips available.  Would you like to select some alternate dates?',\n",
       "  'I have no flexibility for dates... but I can leave from Atlantis rather than Caprica. How about that?',\n",
       "  'I checked the availability for that date and there were no trips available.  Would you like to select some alternate dates?',\n",
       "  \"I suppose I'll speak with my husband to see if we can choose other dates, and then I'll come back to you. Thanks for your help\"],\n",
       " [0, 1, 0, 1, 0, 1, 0])"
      ]
     },
     "execution_count": 3,
     "metadata": {},
     "output_type": "execute_result"
    }
   ],
   "source": [
    "def parse_dialog_studio_sample(raw_sample):\n",
    "    utterances = []\n",
    "    speakers = []\n",
    "    for turn in raw_sample:\n",
    "        ut = turn['user utterance']\n",
    "        if ut != '':\n",
    "            utterances.append(ut)\n",
    "            speakers.append(0)\n",
    "        ut = turn['system response']\n",
    "        if ut != '':\n",
    "            utterances.append(ut)\n",
    "            speakers.append(1)\n",
    "    return utterances, speakers\n",
    "\n",
    "utterances, speakers = parse_dialog_studio_sample(dataset[0])\n",
    "utterances, speakers"
   ]
  },
  {
   "cell_type": "code",
   "execution_count": 4,
   "metadata": {},
   "outputs": [],
   "source": [
    "path_to_root = '/home/alekseev_ilya/dialogue-augmentation'\n",
    "\n",
    "import sys\n",
    "sys.path.insert(1, path_to_root)\n",
    "\n",
    "from mylib.utils.data.dialogue_data_type import Dialogue\n",
    "\n",
    "dia = Dialogue(\n",
    "    idx=7,\n",
    "    utterances=utterances,\n",
    "    speakers=speakers,\n",
    "    source_dataset_name='FRAMES',\n",
    "    idx_within_source=0\n",
    ")"
   ]
  },
  {
   "cell_type": "code",
   "execution_count": 5,
   "metadata": {},
   "outputs": [
    {
     "data": {
      "text/plain": [
       "{ 'content': [ { 'speaker': 0,\n",
       "                 'utterance': \"I'd like to book a trip to Atlantis from \"\n",
       "                              'Caprica on Saturday, August 13, 2016 for 8 '\n",
       "                              'adults. I have a tight budget of 1700.'},\n",
       "               { 'speaker': 1,\n",
       "                 'utterance': 'Hi...I checked a few options for you, and '\n",
       "                              'unfortunately, we do not currently have any '\n",
       "                              'trips that meet this criteria.  Would you like '\n",
       "                              'to book an alternate travel option?'},\n",
       "               { 'speaker': 0,\n",
       "                 'utterance': 'Yes, how about going to Neverland from Caprica '\n",
       "                              'on August 13, 2016 for 5 adults. For this trip, '\n",
       "                              'my budget would be 1900.'},\n",
       "               { 'speaker': 1,\n",
       "                 'utterance': 'I checked the availability for this date and '\n",
       "                              'there were no trips available.  Would you like '\n",
       "                              'to select some alternate dates?'},\n",
       "               { 'speaker': 0,\n",
       "                 'utterance': 'I have no flexibility for dates... but I can '\n",
       "                              'leave from Atlantis rather than Caprica. How '\n",
       "                              'about that?'},\n",
       "               { 'speaker': 1,\n",
       "                 'utterance': 'I checked the availability for that date and '\n",
       "                              'there were no trips available.  Would you like '\n",
       "                              'to select some alternate dates?'},\n",
       "               { 'speaker': 0,\n",
       "                 'utterance': \"I suppose I'll speak with my husband to see if \"\n",
       "                              \"we can choose other dates, and then I'll come \"\n",
       "                              'back to you. Thanks for your help'}],\n",
       "  'idx': 7,\n",
       "  'idx_within_source': 0,\n",
       "  'source_dataset_name': 'FRAMES'}"
      ]
     },
     "execution_count": 5,
     "metadata": {},
     "output_type": "execute_result"
    }
   ],
   "source": [
    "dia"
   ]
  },
  {
   "cell_type": "code",
   "execution_count": 7,
   "metadata": {},
   "outputs": [
    {
     "data": {
      "text/plain": [
       "['<s>', '</s>', '<unk>', '<pad>', '<mask>']"
      ]
     },
     "execution_count": 7,
     "metadata": {},
     "output_type": "execute_result"
    }
   ],
   "source": [
    "from transformers import AutoTokenizer\n",
    "\n",
    "\n",
    "tokenizer = AutoTokenizer.from_pretrained('roberta-base')\n",
    "tokenizer.all_special_tokens"
   ]
  },
  {
   "cell_type": "code",
   "execution_count": 8,
   "metadata": {},
   "outputs": [
    {
     "data": {
      "text/plain": [
       "['<s>', '</s>', '[UNK]', '<pad>', '<mask>']"
      ]
     },
     "execution_count": 8,
     "metadata": {},
     "output_type": "execute_result"
    }
   ],
   "source": [
    "tokenizer2 = AutoTokenizer.from_pretrained('microsoft/mpnet-base')\n",
    "tokenizer2.all_special_tokens"
   ]
  },
  {
   "cell_type": "code",
   "execution_count": 9,
   "metadata": {},
   "outputs": [
    {
     "data": {
      "text/plain": [
       "{'input_ids': [0, 20030, 642, 232, 939, 40, 989, 6000, 8, 1597, 11, 110, 1144, 600, 2], 'attention_mask': [1, 1, 1, 1, 1, 1, 1, 1, 1, 1, 1, 1, 1, 1, 1]}"
      ]
     },
     "execution_count": 9,
     "metadata": {},
     "output_type": "execute_result"
    }
   ],
   "source": [
    "tokenizer('hellp world i will leave forever and die in your heart though')"
   ]
  },
  {
   "cell_type": "code",
   "execution_count": 10,
   "metadata": {},
   "outputs": [
    {
     "data": {
      "text/plain": [
       "{'input_ids': [0, 3113, 2365, 2092, 1049, 2101, 2685, 5095, 2002, 3284, 2003, 2119, 2544, 2299, 2], 'attention_mask': [1, 1, 1, 1, 1, 1, 1, 1, 1, 1, 1, 1, 1, 1, 1]}"
      ]
     },
     "execution_count": 10,
     "metadata": {},
     "output_type": "execute_result"
    }
   ],
   "source": [
    "tokenizer2('hellp world i will leave forever and die in your heart though')"
   ]
  }
 ],
 "metadata": {
  "kernelspec": {
   "display_name": "VENV",
   "language": "python",
   "name": "python3"
  },
  "language_info": {
   "codemirror_mode": {
    "name": "ipython",
    "version": 3
   },
   "file_extension": ".py",
   "mimetype": "text/x-python",
   "name": "python",
   "nbconvert_exporter": "python",
   "pygments_lexer": "ipython3",
   "version": "3.8.10"
  }
 },
 "nbformat": 4,
 "nbformat_minor": 2
}
